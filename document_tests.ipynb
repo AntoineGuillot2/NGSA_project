{
 "cells": [
  {
   "cell_type": "code",
   "execution_count": 5,
   "metadata": {},
   "outputs": [
    {
     "name": "stdout",
     "output_type": "stream",
     "text": [
      "The autoreload extension is already loaded. To reload it, use:\n",
      "  %reload_ext autoreload\n"
     ]
    }
   ],
   "source": [
    "import lib.doc_similarity\n",
    "import lib.w2vec\n",
    "import lib.reuters_utils\n",
    "\n",
    "from lib.doc_similarity import  GraphSpikedTST_PC, GraphSpikedTST_Cov\n",
    "from lib.w2vec import Word2vec\n",
    "from lib.reuters_utils import load_doc_ids, load_doc_from_id\n",
    "\n",
    "import numpy as np\n",
    "\n",
    "%matplotlib inline\n",
    "\n",
    "%load_ext autoreload\n",
    "%autoreload 2"
   ]
  },
  {
   "cell_type": "code",
   "execution_count": 6,
   "metadata": {},
   "outputs": [],
   "source": [
    "doc_train, doc_test = load_doc_ids()"
   ]
  },
  {
   "cell_type": "code",
   "execution_count": 8,
   "metadata": {},
   "outputs": [],
   "source": [
    "doc_1, doc_1_cat = load_doc_from_id(doc_train[0])\n",
    "doc_2, doc_2_cat = load_doc_from_id(doc_train[0])"
   ]
  },
  {
   "cell_type": "code",
   "execution_count": 10,
   "metadata": {},
   "outputs": [],
   "source": [
    "w2v = Word2vec(\"data/wiki.en.vec\")"
   ]
  },
  {
   "cell_type": "code",
   "execution_count": 11,
   "metadata": {},
   "outputs": [
    {
     "name": "stderr",
     "output_type": "stream",
     "text": [
      "100%|████████████████████████████████████████████████████████████████████████████████| 100/100 [05:03<00:00,  3.04s/it]\n"
     ]
    },
    {
     "data": {
      "image/png": "[encoded data removed]",
      "text/plain": [
       "<Figure size 432x288 with 1 Axes>"
      ]
     },
     "metadata": {},
     "output_type": "display_data"
    },
    {
     "data": {
      "image/png": "[encoded data removed]",
      "text/plain": [
       "<Figure size 432x288 with 1 Axes>"
      ]
     },
     "metadata": {},
     "output_type": "display_data"
    },
    {
     "name": "stdout",
     "output_type": "stream",
     "text": [
      "# Spike A: 898\n",
      "# Spike B: 902\n"
     ]
    },
    {
     "data": {
      "text/plain": [
       "(0.9827558095988823,\n",
       " 0.9532424101124236,\n",
       " array([ 7.07534829e+00,  3.76329955e+00, -3.37680118e+00, ...,\n",
       "         7.16781558e-02,  8.37365816e-04, -3.59214783e-03]),\n",
       " array([ 7.23482600e+00,  3.93012720e+00, -3.54120546e+00, ...,\n",
       "        -6.41682651e-03,  1.68126026e-01, -2.63030334e-02]))"
      ]
     },
     "execution_count": 11,
     "metadata": {},
     "output_type": "execute_result"
    }
   ],
   "source": [
    "Utest,UtestSpike,idxdocA,idxdocB = GraphSpikedTST_Cov(doc_1, doc_2, w2v, plot_spectrum=True)"
   ]
  },
  {
   "cell_type": "code",
   "execution_count": null,
   "metadata": {},
   "outputs": [],
   "source": [
    "wasserstein_distance(get_spikes(idxdocA), get_spikes(idxdocB))"
   ]
  }
 ],
 "metadata": {
  "kernelspec": {
   "display_name": "Python 3",
   "language": "python",
   "name": "python3"
  },
  "language_info": {
   "codemirror_mode": {
    "name": "ipython",
    "version": 3
   },
   "file_extension": ".py",
   "mimetype": "text/x-python",
   "name": "python",
   "nbconvert_exporter": "python",
   "pygments_lexer": "ipython3",
   "version": "3.6.5"
  }
 },
 "nbformat": 4,
 "nbformat_minor": 2
}
